{
 "cells": [
  {
   "cell_type": "markdown",
   "metadata": {},
   "source": [
    "# Manejo de archivos"
   ]
  },
  {
   "cell_type": "markdown",
   "metadata": {},
   "source": [
    "## Abrir archivos"
   ]
  },
  {
   "cell_type": "markdown",
   "metadata": {},
   "source": [
    "### Open"
   ]
  },
  {
   "cell_type": "markdown",
   "metadata": {},
   "source": [
    "Python incluye la función `open()` que nos permite abrir archivos. Esta regresa un objeto de archivo que nos permite leer o modificar el archivo.  \n",
    "\n",
    "Al abrir un archivo en Python debemos de indicarle el modo en que queremos abrirlo. Por defecto, Python usa el modo 'rt' (lectura para texto).  \n",
    "\n",
    "| modo | descripción |\n",
    "|---|---|\n",
    "| 't' | Modo texto |\n",
    "| 'b' | Modo binario |\n",
    "| 'r' | lectura |\n",
    "| 'W' | Esctitura. Si el archivo ya existe, lo ctrunca y si no lo crea. |\n",
    "| 'x' | Crea un archivo si no existe, si ya existe marca error. |\n",
    "| 'a' | Escribe al final de un archivo. Si no existe, lo crea. |\n",
    "| '+' | lectura y escitura |"
   ]
  },
  {
   "cell_type": "markdown",
   "metadata": {},
   "source": [
    "Algo que debemos de tomar en cuenta con los archivos es que despues de utilizarlos es necesario cerrarlos usando el método `close()` para que python libere los recursos que se ocuparon para abrirlo.  \n",
    "\n",
    "Ejemplo:"
   ]
  },
  {
   "cell_type": "code",
   "execution_count": 1,
   "metadata": {},
   "outputs": [
    {
     "name": "stdout",
     "output_type": "stream",
     "text": [
      "Este es el contenido del archivo\n",
      "\n"
     ]
    }
   ],
   "source": [
    "# Abrir archivo\n",
    "objeto_archivo = open('ejemplo.txt')\n",
    "\n",
    "# Operaciones con el archivo\n",
    "contenido = objeto_archivo.read()\n",
    "\n",
    "# Cerrar archivo\n",
    "objeto_archivo.close()\n",
    "\n",
    "\n",
    "print (contenido)"
   ]
  },
  {
   "cell_type": "markdown",
   "metadata": {},
   "source": [
    "### With"
   ]
  },
  {
   "cell_type": "markdown",
   "metadata": {},
   "source": [
    "Usando la declaración `with` podemos asegurarnos de que el archivo se cierre despues de ejecutar el bloque de código correspondiente sin la necesidad de usar el método `close()`.  \n",
    "\n",
    "Ejemplo:"
   ]
  },
  {
   "cell_type": "code",
   "execution_count": 2,
   "metadata": {},
   "outputs": [
    {
     "name": "stdout",
     "output_type": "stream",
     "text": [
      "Este es el contenido del archivo\n",
      "\n"
     ]
    }
   ],
   "source": [
    "with open('ejemplo.txt') as objeto_archivo:\n",
    "    contenido = objeto_archivo.read()\n",
    "    \n",
    "print(contenido)"
   ]
  },
  {
   "cell_type": "markdown",
   "metadata": {},
   "source": [
    "## Trabajando con archivos"
   ]
  },
  {
   "cell_type": "markdown",
   "metadata": {},
   "source": [
    "Los objetos de archivo cuentan con distintos métodos que podemos usar para leer o escribir en un archivo.  \n",
    "* ***read()*** nos sirve para leer el contenido de un archivo. Requiere abrir el archivo en modo lectura.  \n",
    "* ***readline()*** funciona de manera sililar, pero solo lee una linea del archivo. También requiere modo lectura.  \n",
    "* ***readlines()*** regresa una lista con el contenido de cada linea de un archivo como elemento. También requiere modo lectura.  \n",
    "* ***write()*** nos permite escribir en el archivo. Require modo escritura.\n",
    "\n",
    "Ejemplo de escritura:"
   ]
  },
  {
   "cell_type": "code",
   "execution_count": 3,
   "metadata": {},
   "outputs": [],
   "source": [
    "with open('dummy.txt', 'wt') as objeto_archivo:\n",
    "    objeto_archivo.write('uno\\n')\n",
    "    objeto_archivo.write('dos\\n')\n",
    "    objeto_archivo.write('tres\\n')"
   ]
  },
  {
   "cell_type": "markdown",
   "metadata": {},
   "source": [
    "Ejemplo de lectura:"
   ]
  },
  {
   "cell_type": "code",
   "execution_count": 4,
   "metadata": {},
   "outputs": [
    {
     "name": "stdout",
     "output_type": "stream",
     "text": [
      "uno\n",
      "dos\n",
      "tres\n",
      "\n"
     ]
    }
   ],
   "source": [
    "with open('dummy.txt', 'rt') as objeto_archivo:\n",
    "    print(objeto_archivo.read())"
   ]
  },
  {
   "cell_type": "markdown",
   "metadata": {},
   "source": [
    "***Ejercicios***"
   ]
  },
  {
   "cell_type": "markdown",
   "metadata": {},
   "source": [
    "Crea una sola cadena de al menos 3 lineas y asignala a la variable `cadena`. Luego guarda su contenido en el archivo llamado \"ejercicio.txt\"."
   ]
  },
  {
   "cell_type": "code",
   "execution_count": null,
   "metadata": {},
   "outputs": [],
   "source": []
  },
  {
   "cell_type": "markdown",
   "metadata": {},
   "source": [
    "Lee el archivo \"ejercicio.txt\" e imprime el contenido de la tercera linea."
   ]
  },
  {
   "cell_type": "code",
   "execution_count": null,
   "metadata": {},
   "outputs": [],
   "source": []
  }
 ],
 "metadata": {
  "kernelspec": {
   "display_name": "Python 3",
   "language": "python",
   "name": "python3"
  },
  "language_info": {
   "codemirror_mode": {
    "name": "ipython",
    "version": 3
   },
   "file_extension": ".py",
   "mimetype": "text/x-python",
   "name": "python",
   "nbconvert_exporter": "python",
   "pygments_lexer": "ipython3",
   "version": "3.7.3"
  }
 },
 "nbformat": 4,
 "nbformat_minor": 2
}
