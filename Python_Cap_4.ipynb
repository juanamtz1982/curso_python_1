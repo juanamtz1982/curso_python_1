{
 "cells": [
  {
   "cell_type": "markdown",
   "metadata": {},
   "source": [
    "# Funciones"
   ]
  },
  {
   "cell_type": "markdown",
   "metadata": {},
   "source": [
    "Las funciones nos ayudan a segmentar nuesto código en bloques más pequeños. Esto nos permite reutilizalos de manera más sencilla y estructurar el código de una forma más legible y facil de debugear.  \n",
    "\n",
    "Para definir una función en Python usamos la sentencia `def` seguida del nombre de la funcion y un juego de parentesis donde incluimos los argumentos que esta recibe.  \n",
    "\n",
    "Opcionalmente podemos agregar la sentencia `return` al final de la función para hacer que esta regrese algun valor al ser ejecutada."
   ]
  },
  {
   "cell_type": "code",
   "execution_count": 1,
   "metadata": {},
   "outputs": [
    {
     "data": {
      "text/plain": [
       "20"
      ]
     },
     "execution_count": 1,
     "metadata": {},
     "output_type": "execute_result"
    }
   ],
   "source": [
    "def calcula_area(base, altura):\n",
    "    area = base * altura\n",
    "    return area\n",
    "\n",
    "calcula_area(10, 2)"
   ]
  },
  {
   "cell_type": "markdown",
   "metadata": {},
   "source": [
    "***Ejercicios***"
   ]
  },
  {
   "cell_type": "markdown",
   "metadata": {},
   "source": [
    "Definamos una funcion que nos devuelva un saludo"
   ]
  },
  {
   "cell_type": "code",
   "execution_count": null,
   "metadata": {},
   "outputs": [],
   "source": []
  },
  {
   "cell_type": "markdown",
   "metadata": {},
   "source": [
    "Definamos una funcion con un saludo personalizado"
   ]
  },
  {
   "cell_type": "code",
   "execution_count": null,
   "metadata": {},
   "outputs": [],
   "source": []
  },
  {
   "cell_type": "markdown",
   "metadata": {},
   "source": [
    "Definamos una funcion para el verificar si un año es bisiesto"
   ]
  },
  {
   "cell_type": "code",
   "execution_count": null,
   "metadata": {},
   "outputs": [],
   "source": []
  },
  {
   "cell_type": "markdown",
   "metadata": {},
   "source": [
    "Ahora definamos una funcion que consuma la funcion anterior y nos diga  que años son bisiestos"
   ]
  },
  {
   "cell_type": "code",
   "execution_count": null,
   "metadata": {},
   "outputs": [],
   "source": []
  },
  {
   "cell_type": "markdown",
   "metadata": {},
   "source": [
    "Ahora definamos una funcion para calcular la serie de fibonacci en N iteraciones"
   ]
  },
  {
   "cell_type": "code",
   "execution_count": null,
   "metadata": {},
   "outputs": [],
   "source": []
  },
  {
   "cell_type": "markdown",
   "metadata": {},
   "source": [
    "## Valores por defecto"
   ]
  },
  {
   "cell_type": "code",
   "execution_count": 2,
   "metadata": {},
   "outputs": [
    {
     "name": "stdout",
     "output_type": "stream",
     "text": [
      "8 + 3 = 11\n"
     ]
    },
    {
     "data": {
      "text/plain": [
       "11"
      ]
     },
     "execution_count": 2,
     "metadata": {},
     "output_type": "execute_result"
    }
   ],
   "source": [
    "def suma_valores(x, y, imprime_operacion=True):\n",
    "    \n",
    "    respuesta = x + y\n",
    "    \n",
    "    if imprime_operacion:\n",
    "        print(x, '+', y, '=', respuesta)\n",
    "        \n",
    "    return respuesta\n",
    "\n",
    "\n",
    "suma_valores(8,3)"
   ]
  },
  {
   "cell_type": "markdown",
   "metadata": {},
   "source": [
    "***Ejercicios***"
   ]
  },
  {
   "cell_type": "markdown",
   "metadata": {},
   "source": [
    "Define una función que reciba una cadena y la imprima. Por defecto, la función deberá de imprimir la cadena \"¡Hola mundo!\" si no recibe otra."
   ]
  },
  {
   "cell_type": "code",
   "execution_count": null,
   "metadata": {},
   "outputs": [],
   "source": []
  },
  {
   "cell_type": "markdown",
   "metadata": {},
   "source": [
    "Define la función `exponenciar()`; esta deberá de aceptar dos argumentos: un valor y una potencia y regresar el valor elevado a la n potencia, por default deberá de elevar el valor al cuadrado si no recibe una potencia diferente."
   ]
  },
  {
   "cell_type": "code",
   "execution_count": null,
   "metadata": {},
   "outputs": [],
   "source": []
  },
  {
   "cell_type": "markdown",
   "metadata": {},
   "source": [
    "## Argumentos arbitrarios (*args)"
   ]
  },
  {
   "cell_type": "markdown",
   "metadata": {},
   "source": [
    "En ocasiones, una función requiere recibir una función indefinida de argumentos. Para esos casos, Python incluye la opción de definir un argumrnto con el formato `*args`. Este nos permite entregarle distintos valores separados por comas.  \n",
    "\n",
    "Ejemplo:"
   ]
  },
  {
   "cell_type": "code",
   "execution_count": 3,
   "metadata": {},
   "outputs": [
    {
     "name": "stdout",
     "output_type": "stream",
     "text": [
      "uno\n",
      "dos\n",
      "tres\n"
     ]
    }
   ],
   "source": [
    "def imprime_cadenas(*cadenas):\n",
    "    for c in cadenas:\n",
    "        print(c)\n",
    "        \n",
    "imprime_cadenas('uno', 'dos', 'tres')"
   ]
  },
  {
   "cell_type": "markdown",
   "metadata": {},
   "source": [
    "***Ejercicios***"
   ]
  },
  {
   "cell_type": "markdown",
   "metadata": {},
   "source": [
    "Define una función que acepte argumentos arbitrarios con el nombre `argumentos`. La función deberá de regresar el tipo de la variable `argumentos`. Para esto puedes usar la función `type()`"
   ]
  },
  {
   "cell_type": "code",
   "execution_count": null,
   "metadata": {},
   "outputs": [],
   "source": []
  },
  {
   "cell_type": "markdown",
   "metadata": {},
   "source": [
    "Define una función que acepte una serie de npumeros enteros como argumentos arbitrarios y regrese la suma de los mismos."
   ]
  },
  {
   "cell_type": "code",
   "execution_count": null,
   "metadata": {},
   "outputs": [],
   "source": []
  },
  {
   "cell_type": "markdown",
   "metadata": {},
   "source": [
    "Define una función que acepte una serie de números enteros como argumentos arbitrarios y regrese el producto de los mismos."
   ]
  },
  {
   "cell_type": "code",
   "execution_count": null,
   "metadata": {},
   "outputs": [],
   "source": []
  },
  {
   "cell_type": "markdown",
   "metadata": {},
   "source": [
    "Define una función que acepte una serie de argumentos como argumentos arbitrarios e imprima cada unos de ellos."
   ]
  },
  {
   "cell_type": "code",
   "execution_count": null,
   "metadata": {},
   "outputs": [],
   "source": []
  },
  {
   "cell_type": "markdown",
   "metadata": {},
   "source": [
    "Define una función que acepte una serie de argumentos arbitrarios (números y letras) y que imprima un mensaje por cada argumendo incluyendo su indice seguido de dos puntos y el valor del argumento.  \n",
    "\n",
    "Ejemplo de salida:  \n",
    "0: primer valor  \n",
    "1: segundo valor  "
   ]
  },
  {
   "cell_type": "code",
   "execution_count": null,
   "metadata": {},
   "outputs": [],
   "source": []
  },
  {
   "cell_type": "markdown",
   "metadata": {},
   "source": [
    "Define una función que acepte una cadena como argumento seguido de una serie de argumentos arbitrarios. La función deberá de concatenar la cadena y ponerla al principio de cada uno de los argumentos arbitrarios e imprimir las cadenas resultantes."
   ]
  },
  {
   "cell_type": "code",
   "execution_count": null,
   "metadata": {},
   "outputs": [],
   "source": []
  },
  {
   "cell_type": "markdown",
   "metadata": {},
   "source": [
    "Define una función que acepte una serie de argumentos arbitrarios seguidos de una cadena como argumento. La función deberá de concatenar la cadena al final de cada uno de los argumentos arbitrarios e imprimir las cadenas resultantes."
   ]
  },
  {
   "cell_type": "code",
   "execution_count": null,
   "metadata": {},
   "outputs": [],
   "source": []
  },
  {
   "cell_type": "markdown",
   "metadata": {},
   "source": [
    "## Desempaquetado de argumentos (**kwargs)"
   ]
  },
  {
   "cell_type": "markdown",
   "metadata": {},
   "source": [
    "Kwargs se utiliza al momento de llamar a una función y se refiere a utilizar las claves y vaores de un diccionario como argumentos en una función. Para esto, las claves de nuestro diccionario deben de corresponder a los nombres de los argumentos que recibe la función que estamos ejecutando."
   ]
  },
  {
   "cell_type": "code",
   "execution_count": 4,
   "metadata": {},
   "outputs": [
    {
     "name": "stdout",
     "output_type": "stream",
     "text": [
      "Hola\n",
      "Mundo\n"
     ]
    }
   ],
   "source": [
    "def imprime_argumentos(arg_1, arg_2):\n",
    "    print(arg_1)\n",
    "    print(arg_2)\n",
    "    \n",
    "argumentos = {'arg_1': 'Hola',\n",
    "             'arg_2': 'Mundo'}\n",
    "    \n",
    "imprime_argumentos(**argumentos)"
   ]
  },
  {
   "cell_type": "markdown",
   "metadata": {},
   "source": [
    "***Ejercicios***"
   ]
  },
  {
   "cell_type": "markdown",
   "metadata": {},
   "source": [
    "Define dos funciones que acepten los mismos argumentos (base y altura), una de ellas debe de calcular el área de un rectánculo y la otra el área de un tríangulo. Crea tambien un diccionario con valores para la base y la altura y utilizalo en ambas funciones para obtener el área del triangulo y rectangulo correspondientes."
   ]
  },
  {
   "cell_type": "code",
   "execution_count": null,
   "metadata": {},
   "outputs": [],
   "source": []
  },
  {
   "cell_type": "markdown",
   "metadata": {},
   "source": [
    "Crea un diccionario con dos claves, una para tu apellido paterno y otra para tu apellido materno. Tambien define una función que reciba 3 parámetros, `nombre`, `apellido_paterno` y `apellidos_materno` y que regrese una cadena con estos tres argumentos concatenados (incluye espacios entre el valor de una cadena y la siguiente). Usa el diccionaio y una cadena para obtener tu nombre completo."
   ]
  },
  {
   "cell_type": "code",
   "execution_count": null,
   "metadata": {},
   "outputs": [],
   "source": []
  },
  {
   "cell_type": "markdown",
   "metadata": {},
   "source": [
    "Defilne dos funciones.\n",
    "\n",
    "La primera (llamada `genera_datos_usuario`) deberá:  \n",
    "* recibir dos argumentos (nombre y apellido)  \n",
    "* regresar un diccionario con las siguientes claves:  \n",
    "    - nombre: el nombre recibido por la función  \n",
    "    - apellido: el apellido recibido por la función  \n",
    "    - usuario: cadena con el formato nombre_apellido (en minúsculas)  \n",
    "    - correo: cadena con el formato usuario@email.com (en minúsculas)  \n",
    "    \n",
    "   \n",
    "La segunda (llamada `genera_mensaje_bienvenida`) deberá:  \n",
    "* recibir los argumentos nombre, apellido, usuario, correo  \n",
    "* imprimir el siguiente mensaje:  \n",
    "```\n",
    "    Hola <NOMBRE> <APELLIDO>,\n",
    "    \n",
    "    ¡Bienvenido! Tu nombre de usuario es: <USUARIO> y tu correo: <CORREO>\n",
    "```\n"
   ]
  },
  {
   "cell_type": "code",
   "execution_count": null,
   "metadata": {},
   "outputs": [],
   "source": []
  }
 ],
 "metadata": {
  "kernelspec": {
   "display_name": "Python 3",
   "language": "python",
   "name": "python3"
  },
  "language_info": {
   "codemirror_mode": {
    "name": "ipython",
    "version": 3
   },
   "file_extension": ".py",
   "mimetype": "text/x-python",
   "name": "python",
   "nbconvert_exporter": "python",
   "pygments_lexer": "ipython3",
   "version": "3.7.3"
  }
 },
 "nbformat": 4,
 "nbformat_minor": 2
}
