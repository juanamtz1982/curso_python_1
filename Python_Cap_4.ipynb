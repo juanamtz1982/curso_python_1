{
 "cells": [
  {
   "cell_type": "markdown",
   "metadata": {},
   "source": [
    "# Funciones"
   ]
  },
  {
   "cell_type": "markdown",
   "metadata": {},
   "source": [
    "Las funciones nos sirven para dar estructura y reutilizar código.\n",
    "\n",
    "En Python, las funciones se definen con la instrucción \"def\" seguida de un nombre descriptivo para la función, los argumentos que recibe entre parentesis y dos puntos puntos al final de la linea. En las líneas siguientes se incluye el bloque de código que se ejecutará como parte de esa función. El código que forma parte de la función debe de estar indentado una sangria (4 espacios) más que la linea donde se define la función.\n",
    "\n",
    "```python\n",
    "def funcion_prueba(argumentos):\n",
    "    ....\n",
    "```\n",
    "\n",
    "Opcionalmente se puede agregar un valor de retorno con usando la instrucción \"return\" dentro del bloque de cófigo de la función. Al ejecutarse el \"return\" se interrumpe la ejecución de la función y esta regresa el valor definido.\n",
    "\n",
    "```python\n",
    "def funcion_prueba(argumentos):\n",
    "    respuesta = 42\n",
    "    return respuesta\n",
    "```"
   ]
  },
  {
   "cell_type": "markdown",
   "metadata": {},
   "source": [
    "Definamos una funcion que nos devuelva un saludo"
   ]
  },
  {
   "cell_type": "code",
   "execution_count": 1,
   "metadata": {},
   "outputs": [],
   "source": [
    "def mi_funcion():\n",
    "    return \"Hola mundo\""
   ]
  },
  {
   "cell_type": "code",
   "execution_count": 2,
   "metadata": {},
   "outputs": [
    {
     "data": {
      "text/plain": [
       "'Hola mundo'"
      ]
     },
     "execution_count": 2,
     "metadata": {},
     "output_type": "execute_result"
    }
   ],
   "source": [
    "mi_funcion()"
   ]
  },
  {
   "cell_type": "markdown",
   "metadata": {},
   "source": [
    "Definamos una funcion con un saludo personalizado"
   ]
  },
  {
   "cell_type": "code",
   "execution_count": 3,
   "metadata": {},
   "outputs": [],
   "source": [
    "def mi_funcion(mi_saludo):\n",
    "    return \"Hola \" + mi_saludo"
   ]
  },
  {
   "cell_type": "code",
   "execution_count": 4,
   "metadata": {},
   "outputs": [
    {
     "data": {
      "text/plain": [
       "'Hola Grupo UDEM'"
      ]
     },
     "execution_count": 4,
     "metadata": {},
     "output_type": "execute_result"
    }
   ],
   "source": [
    "mi_funcion(\"Grupo UDEM\")"
   ]
  },
  {
   "cell_type": "markdown",
   "metadata": {},
   "source": [
    "Definamos una funcion para el verificar si un año es bisiesto"
   ]
  },
  {
   "cell_type": "code",
   "execution_count": 5,
   "metadata": {},
   "outputs": [],
   "source": [
    "def fn_bisiesto(anio):\n",
    "    if anio % 400 ==0:\n",
    "        return 'bisiesto'\n",
    "    elif anio % 4 == 0 and anio % 100 != 0:\n",
    "        return 'bisiesto'\n",
    "    else: return 'no bisiesto'"
   ]
  },
  {
   "cell_type": "code",
   "execution_count": 7,
   "metadata": {},
   "outputs": [
    {
     "data": {
      "text/plain": [
       "'bisiesto'"
      ]
     },
     "execution_count": 7,
     "metadata": {},
     "output_type": "execute_result"
    }
   ],
   "source": [
    "fn_bisiesto(2004)"
   ]
  },
  {
   "cell_type": "markdown",
   "metadata": {},
   "source": [
    "Ahora definamos una funcion que consuma la funcion anterior y nos diga  que años son bisiestos"
   ]
  },
  {
   "cell_type": "code",
   "execution_count": 8,
   "metadata": {},
   "outputs": [],
   "source": [
    "def fn_bisiesto_2(lista_anios):\n",
    "    lista_resultados=[]\n",
    "    for i in lista_anios:\n",
    "        lista_resultados.append([i,fn_bisiesto(i)])\n",
    "    return lista_resultados"
   ]
  },
  {
   "cell_type": "code",
   "execution_count": 9,
   "metadata": {},
   "outputs": [
    {
     "data": {
      "text/plain": [
       "[[1999, 'no bisiesto'],\n",
       " [2000, 'bisiesto'],\n",
       " [2004, 'bisiesto'],\n",
       " [2001, 'no bisiesto']]"
      ]
     },
     "execution_count": 9,
     "metadata": {},
     "output_type": "execute_result"
    }
   ],
   "source": [
    "fn_bisiesto_2([1999,2000,2004,2001])"
   ]
  },
  {
   "cell_type": "markdown",
   "metadata": {},
   "source": [
    "Ahora definamos una funcion para calcular la serie de fibonacci en N iteraciones"
   ]
  },
  {
   "cell_type": "code",
   "execution_count": 16,
   "metadata": {},
   "outputs": [],
   "source": [
    "def fn_fibonacci():\n",
    "    aux, fib, init = 1, 0, 1\n",
    "    lim = int(input(\"Ingrese un numero para la sucesion de fibonacci: \"))\n",
    "    if lim > 0:\n",
    "        while init <= lim:\n",
    "            print(\"{0}\".format(fib), end=\" \")\n",
    "            aux += fib \n",
    "            fib = aux - fib\n",
    "            init += 1\n",
    "    else:\n",
    "        print(\"El numero debe ser mayor a cero!!\")"
   ]
  },
  {
   "cell_type": "code",
   "execution_count": 17,
   "metadata": {},
   "outputs": [
    {
     "name": "stdout",
     "output_type": "stream",
     "text": [
      "Ingrese un numero para la sucesion de fibonacci: 20\n",
      "0 1 1 2 3 5 8 13 21 34 55 89 144 233 377 610 987 1597 2584 4181 "
     ]
    }
   ],
   "source": [
    "fn_fibonacci()"
   ]
  },
  {
   "cell_type": "code",
   "execution_count": null,
   "metadata": {},
   "outputs": [],
   "source": []
  }
 ],
 "metadata": {
  "kernelspec": {
   "display_name": "Python 3",
   "language": "python",
   "name": "python3"
  },
  "language_info": {
   "codemirror_mode": {
    "name": "ipython",
    "version": 3
   },
   "file_extension": ".py",
   "mimetype": "text/x-python",
   "name": "python",
   "nbconvert_exporter": "python",
   "pygments_lexer": "ipython3",
   "version": "3.7.2"
  }
 },
 "nbformat": 4,
 "nbformat_minor": 2
}
