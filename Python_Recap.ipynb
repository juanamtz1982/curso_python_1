{
 "cells": [
  {
   "cell_type": "markdown",
   "metadata": {},
   "source": [
    "## Ejercicio 1"
   ]
  },
  {
   "cell_type": "markdown",
   "metadata": {},
   "source": [
    "Define una función que: \n",
    "* Reciba una serie de nombres como argumentos arbitrarios. \n",
    "* Corrija el formato de los nombres para que la primer letra de cada palabra aparezca en mayúsculas. \n",
    "* Ordene la lista recibida en orden alfabético.\n",
    "* Asigne un id númerico a cada alumno.\n",
    "* Regrese una lista donde cada elemento sea una tupla de la cual el primer elemento sea la matricula y el segundo el nombre del alumno."
   ]
  },
  {
   "cell_type": "code",
   "execution_count": null,
   "metadata": {},
   "outputs": [],
   "source": []
  },
  {
   "cell_type": "markdown",
   "metadata": {},
   "source": [
    "## Ejercicio 2"
   ]
  },
  {
   "cell_type": "markdown",
   "metadata": {},
   "source": [
    "Define una función que:\n",
    "* Reciba la lista generada en el ejercicio anterior.\n",
    "* Además debe recibir una cadena que será usada como nombre de archivo. El valor por defecto de la cadena deberá ser \"lista_alumnos\"\n",
    "* Guarde un archivo de texto (.txt) con el contenido de la lista (formato de cada linea: \"id: nombre\")\n",
    "* Imprima un mensaje de confirmación donde se indique el nombre del archivo que se generó y el número de alumnos incluidos."
   ]
  },
  {
   "cell_type": "code",
   "execution_count": null,
   "metadata": {},
   "outputs": [],
   "source": []
  }
 ],
 "metadata": {
  "kernelspec": {
   "display_name": "Python 3",
   "language": "python",
   "name": "python3"
  },
  "language_info": {
   "codemirror_mode": {
    "name": "ipython",
    "version": 3
   },
   "file_extension": ".py",
   "mimetype": "text/x-python",
   "name": "python",
   "nbconvert_exporter": "python",
   "pygments_lexer": "ipython3",
   "version": "3.7.3"
  }
 },
 "nbformat": 4,
 "nbformat_minor": 2
}
